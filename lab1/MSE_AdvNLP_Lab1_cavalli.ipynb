{
 "cells": [
  {
   "cell_type": "markdown",
   "metadata": {},
   "source": [
    "![MSE Logo](https://moodle.msengineering.ch/pluginfile.php/1/core_admin/logo/0x150/1643104191/logo-mse.png)\n",
    "\n",
    "# AdvNLP Lab 1: Text Segmentation with NLTK\n",
    "\n",
    "## 1. Introduction\n",
    "The goal of the first AdvNLP lab is to run simple operations for text analysis using the [NLTK](http://www.nltk.org/) toolkit.  You will use the environment that you set up following the instructions of the previous notebook: [Python 3](https://www.python.org/) with [Jupyter](https://jupyter.org/) notebooks.  \n",
    "\n",
    "You will use NLTK functions to get texts from the web and segment (split) them into sentences and words (also called *tokens*).  You will also experiment with extracting statistics about the texts.  In the end, you will compare statistics of texts in two languages. \n",
    "\n",
    "To submit your practical work, please execute anew all cells of this notebook, then save it and submit it as homework on Moodle."
   ]
  },
  {
   "cell_type": "markdown",
   "metadata": {},
   "source": [
    "**NLTK: the Natural Language (Processing) Toolkit**\n",
    "\n",
    "Please add NLTK to your Python installation, by following the installation instructions at the [NLTK website](http://www.nltk.org/install.html).  A good way to get started is to look at [Chapter 1](http://www.nltk.org/book/ch01.html) of the [NLTK book (NLP with Python)](http://www.nltk.org/book/) and to try some of the instructions there.  \n",
    "\n",
    "The online edition is updated for Python 3, but the printed book, also available in PDF on some websites, is only for Python 2 ([Natural Language Processing with Python: Analyzing Text with the Natural Language Toolkit, Steven Bird, Ewan Klein, and Edward Loper, O'Reilly Media, 2009](http://shop.oreilly.com/product/9780596516499.do)). \n",
    "\n",
    "To use NLTK in Jupyter, all you need is to `import nltk` before you need it.  You must use the prefix `nltk.` unless you write for instance: `from nltk.book import *` which will import and define several text collections (a.k.a corpora).  NLTK can download from the associated website a large number of corpora.  NLTK has a download manager which can be called from a Python interpreter (not a notebook) using `nltk.download()`.  In this practical session, we will not use any of these."
   ]
  },
  {
   "cell_type": "code",
   "execution_count": 1,
   "metadata": {},
   "outputs": [
    {
     "name": "stderr",
     "output_type": "stream",
     "text": [
      "[nltk_data] Downloading package punkt to\n",
      "[nltk_data]     C:\\Users\\a.cavalli\\AppData\\Roaming\\nltk_data...\n",
      "[nltk_data]   Package punkt is already up-to-date!\n",
      "[nltk_data] Downloading package punkt_tab to\n",
      "[nltk_data]     C:\\Users\\a.cavalli\\AppData\\Roaming\\nltk_data...\n",
      "[nltk_data]   Package punkt_tab is already up-to-date!\n"
     ]
    },
    {
     "data": {
      "text/plain": [
       "True"
      ]
     },
     "execution_count": 1,
     "metadata": {},
     "output_type": "execute_result"
    }
   ],
   "source": [
    "import nltk\n",
    "nltk.download('punkt') # execute only once after installing NLTK\n",
    "nltk.download('punkt_tab')"
   ]
  },
  {
   "cell_type": "markdown",
   "metadata": {},
   "source": [
    "**1a.** To verify your NLTK library, please define an *array* of words called `sentence1` and use `nltk.bigrams` to generate all bigrams from it, i.e. pairs of consecutive words, sorted alphabetically.  You can see an example in [Sec. 3.3 of Ch. 1 of the NLTK book](http://www.nltk.org/book/ch01.html#collocations-and-bigrams). "
   ]
  },
  {
   "cell_type": "code",
   "execution_count": 3,
   "metadata": {},
   "outputs": [
    {
     "name": "stdout",
     "output_type": "stream",
     "text": [
      "[('an', 'array'), ('array', 'of'), ('called', 'sentence1'), ('define', 'an'), ('of', 'words'), ('please', 'define'), ('words', 'called')]\n"
     ]
    }
   ],
   "source": [
    "sentence1 = ['please', 'define', 'an', 'array', 'of', 'words', 'called', 'sentence1']\n",
    "print(sorted(list(nltk.bigrams(sentence1))))"
   ]
  },
  {
   "cell_type": "markdown",
   "metadata": {},
   "source": [
    "## 2. Using NLTK to tokenize a text\n",
    "\n",
    "**2a.** Using inspiration from [Chapter 3 (3.1. Processing Raw Text) of the NLTK book](http://www.nltk.org/book/ch03.html), get a book from the Gutenberg Project in text format.   What is its length? Are these bytes or characters? If you are curious about \"special\" characters, you can refer to [Python's documentation of Unicode support](https://docs.python.org/3.8/howto/unicode.html)."
   ]
  },
  {
   "cell_type": "code",
   "execution_count": 7,
   "metadata": {},
   "outputs": [],
   "source": [
    "from urllib import request # you may need to run:  !pip install urllib\n",
    "import numpy as np"
   ]
  },
  {
   "cell_type": "code",
   "execution_count": 8,
   "metadata": {},
   "outputs": [
    {
     "name": "stdout",
     "output_type": "stream",
     "text": [
      "<class 'str'>\n",
      "lenght: 763033\n"
     ]
    }
   ],
   "source": [
    "# Please write your Python code below and execute it.\n",
    "\n",
    "url = \"https://www.gutenberg.org/ebooks/1342.txt.utf-8\"\n",
    "response = request.urlopen(url)\n",
    "raw = response.read().decode('utf8')\n",
    "print(type(raw))\n",
    "print('lenght:', len(raw))"
   ]
  },
  {
   "cell_type": "markdown",
   "metadata": {},
   "source": [
    "Since the variable is a string, the length is the number of characters."
   ]
  },
  {
   "cell_type": "markdown",
   "metadata": {},
   "source": [
    "**2b.** We now want to keep only the meaningful text from the book, without the header and the final license. Determine, either by spotting the position of certain initial and final strings, or by trial and error, how much your should trim from the beginning and from the end in order to keep only the actual text of the book. Then save the result into a new string, and display its length."
   ]
  },
  {
   "cell_type": "code",
   "execution_count": 11,
   "metadata": {},
   "outputs": [
    {
     "name": "stdout",
     "output_type": "stream",
     "text": [
      "meaningful text: from 2550 to 744087\n",
      "lenght: 741537\n"
     ]
    }
   ],
   "source": [
    "# Please write your Python code below and execute it.\n",
    "preface_idx = raw.index('PREFACE.')\n",
    "end_idx = raw.index('CHISWICK PRESS:--CHARLES WHITTINGHAM AND CO.', preface_idx)\n",
    "print(f'meaningful text: from {preface_idx} to {end_idx}')\n",
    "text = raw[preface_idx:end_idx]\n",
    "print('lenght:', len(text))"
   ]
  },
  {
   "cell_type": "markdown",
   "metadata": {},
   "source": [
    "NLTK has two useful functions, one to segment a text into sentences, and the other one to segment a text into words.  Usually, only word segmentation is called *tokenization*, but NLTK uses this name for both functions.\n",
    "\n",
    "* `nltk.sent_tokenize(...)` (documented [here](https://www.nltk.org/api/nltk.tokenize.html#nltk.tokenize.word_tokenize))\n",
    "* `nltk.word_tokenize(...)` (documented [here](https://www.nltk.org/api/nltk.tokenize.html#nltk.tokenize.sent_tokenize))"
   ]
  },
  {
   "cell_type": "markdown",
   "metadata": {},
   "source": [
    "**2c.** Please segment the text above into sentences with NLTK, display the number of sentences, and display five sentences.  Please comment briefly about the quality of the segmentation.  If you think that some special characters degrade the results, please go back and replace them in the full text (e.g. with `.replace('s1', 's2')`)."
   ]
  },
  {
   "cell_type": "code",
   "execution_count": 14,
   "metadata": {},
   "outputs": [
    {
     "name": "stdout",
     "output_type": "stream",
     "text": [
      "588 >>> so\n",
      "genteel and so easy!\n",
      "1083 >>> The two first dances, however, brought a return of\n",
      "distress: they were dances of mortification.\n",
      "3047 >>> We have not met since the\n",
      "26th of November, when we were all dancing together at Netherfield.”\n",
      "\n",
      "Elizabeth was pleased to find his memory so exact; and he afterwards\n",
      "took occasion to ask her, when unattended to by any of the rest, whether\n",
      "_all_ her sisters were at Longbourn.\n",
      "3923 >>> Yes, there was something in _that_; I told you so from the\n",
      "first, you may remember.”\n",
      "\n",
      "“I _did_ hear, too, that there was a time when sermon-making was not so\n",
      "palatable to you as it seems to be at present; that you actually\n",
      "declared your resolution of never taking orders, and that the business\n",
      "had been compromised accordingly.”\n",
      "\n",
      "“You did!\n",
      "3998 >>> Both sisters were uncomfortable\n",
      "enough.\n"
     ]
    }
   ],
   "source": [
    "sentences = nltk.sent_tokenize(text, language='english')\n",
    "#rand_sent_idx = np.random.randint(len(sentences), size=5)\n",
    "rand_sent_idx = [ 588,  1083, 3047, 3923, 3998]\n",
    "for idx in rand_sent_idx:\n",
    "    print(idx, '>>>', sentences[idx])"
   ]
  },
  {
   "cell_type": "code",
   "execution_count": 15,
   "metadata": {
    "scrolled": true
   },
   "outputs": [],
   "source": [
    "text = text.replace('“', '').replace('”', '') # see for instance sentences 3047 and 3923 of the original text\n",
    "sentences = nltk.sent_tokenize(text, language='english')"
   ]
  },
  {
   "cell_type": "code",
   "execution_count": 16,
   "metadata": {},
   "outputs": [
    {
     "name": "stdout",
     "output_type": "stream",
     "text": [
      "number of sentences: 6073\n",
      "146 >>> Why, my dear, you must know, Mrs. Long says that Netherfield is taken\n",
      "by a young man of large fortune from the north of England; that he came\n",
      "down on Monday in a chaise and four to see the place, and was so much\n",
      "delighted with it that he agreed with Mr. Morris immediately; that he is\n",
      "to take possession before Michaelmas, and some of his servants are to be\n",
      "in the house by the end of next week.\n",
      "4653 >>> There were\n",
      "few people on whose secrecy she would have more confidently depended;\n",
      "but at the same time there was no one whose knowledge of a sister’s\n",
      "frailty would have mortified her so much.\n",
      "3633 >>> Mrs. Gardiner abused her stupidity.\n",
      "1685 >>> Before Elizabeth had time for anything but a blush of surprise, Mrs.\n",
      "Bennet instantly answered,--\n",
      "\n",
      "Oh dear!\n",
      "5264 >>> I did not wink at you.\n"
     ]
    }
   ],
   "source": [
    "print('number of sentences:', len(sentences))\n",
    "rand_sent_idx = np.random.randint(len(sentences), size=5)\n",
    "for idx in rand_sent_idx:\n",
    "    print(idx, '>>>', sentences[idx])"
   ]
  },
  {
   "cell_type": "markdown",
   "metadata": {},
   "source": [
    "Segmentation is quite good after handling special characters. Periods usually mark the end of the sentence; however the period after \"Mrs.\" for instance is not considered as the end of a sentence."
   ]
  },
  {
   "cell_type": "markdown",
   "metadata": {},
   "source": [
    "**2d.** Please segment each sentence into tokens, store the result in a new variable (a list of lists), and display the same five sentences as above.  Please comment briefly on the quality of the tokenization."
   ]
  },
  {
   "cell_type": "code",
   "execution_count": 19,
   "metadata": {},
   "outputs": [],
   "source": [
    "# Please write your Python code in this cell and execute it.\n",
    "tokens = [nltk.tokenize.word_tokenize(sentence, language='english') for sentence in sentences]"
   ]
  },
  {
   "cell_type": "code",
   "execution_count": 20,
   "metadata": {},
   "outputs": [
    {
     "name": "stdout",
     "output_type": "stream",
     "text": [
      "146 >>> ['Why', ',', 'my', 'dear', ',', 'you', 'must', 'know', ',', 'Mrs.', 'Long', 'says', 'that', 'Netherfield', 'is', 'taken', 'by', 'a', 'young', 'man', 'of', 'large', 'fortune', 'from', 'the', 'north', 'of', 'England', ';', 'that', 'he', 'came', 'down', 'on', 'Monday', 'in', 'a', 'chaise', 'and', 'four', 'to', 'see', 'the', 'place', ',', 'and', 'was', 'so', 'much', 'delighted', 'with', 'it', 'that', 'he', 'agreed', 'with', 'Mr.', 'Morris', 'immediately', ';', 'that', 'he', 'is', 'to', 'take', 'possession', 'before', 'Michaelmas', ',', 'and', 'some', 'of', 'his', 'servants', 'are', 'to', 'be', 'in', 'the', 'house', 'by', 'the', 'end', 'of', 'next', 'week', '.']\n",
      "4653 >>> ['There', 'were', 'few', 'people', 'on', 'whose', 'secrecy', 'she', 'would', 'have', 'more', 'confidently', 'depended', ';', 'but', 'at', 'the', 'same', 'time', 'there', 'was', 'no', 'one', 'whose', 'knowledge', 'of', 'a', 'sister', '’', 's', 'frailty', 'would', 'have', 'mortified', 'her', 'so', 'much', '.']\n",
      "3633 >>> ['Mrs.', 'Gardiner', 'abused', 'her', 'stupidity', '.']\n",
      "1685 >>> ['Before', 'Elizabeth', 'had', 'time', 'for', 'anything', 'but', 'a', 'blush', 'of', 'surprise', ',', 'Mrs.', 'Bennet', 'instantly', 'answered', ',', '--', 'Oh', 'dear', '!']\n",
      "5264 >>> ['I', 'did', 'not', 'wink', 'at', 'you', '.']\n"
     ]
    }
   ],
   "source": [
    "for idx in rand_sent_idx:\n",
    "    print(idx, '>>>', tokens[idx])"
   ]
  },
  {
   "cell_type": "markdown",
   "metadata": {},
   "source": [
    "Every word is treated as a token, even the family name Gardiner."
   ]
  },
  {
   "cell_type": "markdown",
   "metadata": {},
   "source": [
    "**2e.** Please display the total number of tokens in the final result."
   ]
  },
  {
   "cell_type": "code",
   "execution_count": 23,
   "metadata": {},
   "outputs": [
    {
     "name": "stdout",
     "output_type": "stream",
     "text": [
      "total nb of tokens (from sentences): 148032\n"
     ]
    }
   ],
   "source": [
    "# Please write your Python code in this cell and execute it.\n",
    "flattened_tokens = [token for sentence in tokens for token in sentence]\n",
    "print('total nb of tokens (from sentences):', len(flattened_tokens))"
   ]
  },
  {
   "cell_type": "markdown",
   "metadata": {},
   "source": [
    "**2f.** Please tokenize now directly the initial full text, without segmenting it into sentences.  Please display the total number of tokens found, and compare this number with the one obtained above."
   ]
  },
  {
   "cell_type": "code",
   "execution_count": 25,
   "metadata": {},
   "outputs": [
    {
     "name": "stdout",
     "output_type": "stream",
     "text": [
      "total nb of tokens (from full text): 148032\n"
     ]
    }
   ],
   "source": [
    "# Please write your Python code in this cell and execute it.\n",
    "tokens_full_text = nltk.tokenize.word_tokenize(text, language='english')\n",
    "print('total nb of tokens (from full text):', len(tokens_full_text))"
   ]
  },
  {
   "cell_type": "markdown",
   "metadata": {},
   "source": [
    "In both ways, we obtain the same number of tokens. Getting a different result would have been strange, since we expect that splitting a text into sentences shouldn't break words."
   ]
  },
  {
   "cell_type": "markdown",
   "metadata": {},
   "source": [
    "**2g.** Find the size of the vocabulary of your text (the unique *word types*) by converting the list of words (the *tokens*) to a Python `set`.  Note that these *types* include punctuations and other symbols found through tokenization, and that upper/lower case letters are different.  Display all words longer than 15 characters and not containing a hyphen (-)."
   ]
  },
  {
   "cell_type": "code",
   "execution_count": 28,
   "metadata": {},
   "outputs": [
    {
     "name": "stdout",
     "output_type": "stream",
     "text": [
      "vocabulary size: 7607\n",
      "misunderstanding\n",
      "superciliousness\n",
      "misrepresentation\n",
      "communicativeness\n",
      "disinterestedness\n",
      "discontentedness\n",
      "incomprehensible\n"
     ]
    }
   ],
   "source": [
    "# Please write your Python code in this cell and execute it.\n",
    "vocabulary = set(tokens_full_text)\n",
    "print('vocabulary size:', len(vocabulary))\n",
    "for token in vocabulary:\n",
    "    if len(token)>15 and not '-' in token:\n",
    "        print(token)"
   ]
  },
  {
   "cell_type": "markdown",
   "metadata": {},
   "source": [
    "**2h.** What is the type-token ratio (TTR) of your text?"
   ]
  },
  {
   "cell_type": "code",
   "execution_count": 30,
   "metadata": {},
   "outputs": [
    {
     "name": "stdout",
     "output_type": "stream",
     "text": [
      "TTR: 0.05138753782965845\n"
     ]
    }
   ],
   "source": [
    "print('TTR:', len(vocabulary) / len(tokens_full_text))"
   ]
  },
  {
   "cell_type": "markdown",
   "metadata": {},
   "source": [
    "## 3. Computing statistics with NLTK\n",
    "In this section, you will create a `nltk.Text` object which will enable you to compute statistics using NLTK functions.  [Chapter 1 of the NLTK book](http://www.nltk.org/book/ch01.html) provides examples of use for such objects.\n",
    "\n",
    "A `nltk.Text` can store one of the following text formats: (1) string, (2) list of all words (list of strings), (3) list of all sentences (list of lists of strings).  However, only option (2) will allow you to use counting methods.   Note that `nltk.word_tokenize()` and `nltk.sent_tokenize()` apply to strings but not to `ntlk.Text` objects (even when they store a string)."
   ]
  },
  {
   "cell_type": "markdown",
   "metadata": {},
   "source": [
    "**3a.** Please create a `nltk.Text` object from the tokenized version of your text (without sentence segmentation)."
   ]
  },
  {
   "cell_type": "code",
   "execution_count": 33,
   "metadata": {},
   "outputs": [],
   "source": [
    "# Please write your Python code in this cell and execute it.\n",
    "nltk_text = nltk.Text(tokens_full_text)"
   ]
  },
  {
   "cell_type": "markdown",
   "metadata": {},
   "source": [
    "NLTK can compute word frequencies for a given text, yielding a new object called a frequency distribution (`FreqDist`): see [Sec. 3.1 of Ch. 1 of the NLTK book](http://www.nltk.org/book/ch01.html#frequency-distributions).  Using such an object, we can get the most frequent words.  \n",
    "\n",
    "**3b.** Please construct the frequency distribution of your text.  Then, display the words that have at least 4 characters among the 50 most frequent words (calling the `most_common` method on the `FreqDist`), together with their number of occurrences.  Please comment briefly on the results."
   ]
  },
  {
   "cell_type": "code",
   "execution_count": 35,
   "metadata": {},
   "outputs": [
    {
     "name": "stdout",
     "output_type": "stream",
     "text": [
      "['that', 'with', 'have', 'Elizabeth', 'which', 'were', 'been', 'could', 'very', 'from', 'they', 'would', 'them', 'Darcy', 'their', 'what', 'said', 'will', 'your', 'this', 'such', 'Mrs.', 'Bennet', 'more', 'much', 'Miss', 'must', 'Bingley', 'when', 'than', 'there', 'Jane', 'should', 'know', 'herself', 'before', 'though', 'never', 'think', 'other', 'only', 'soon', 'sister', 'might', 'some', 'time', 'Wickham', 'most', 'Collins', 'little']\n"
     ]
    }
   ],
   "source": [
    "# Please write your Python code in this cell and execute it.\n",
    "fdist = nltk.FreqDist(nltk_text)\n",
    "most_common_tokens = []\n",
    "for token, count in fdist.most_common():\n",
    "    if len(token)>3:\n",
    "        most_common_tokens.append(token)\n",
    "print(most_common_tokens[:50])"
   ]
  },
  {
   "cell_type": "markdown",
   "metadata": {},
   "source": [
    "Unsurprisingly, most common words are prepositions, conjunctions, pronouns, and verbs likes \"have\" and \"be\" (and their conjugations). We also have the name of the main characters of the book."
   ]
  },
  {
   "cell_type": "markdown",
   "metadata": {},
   "source": [
    "## 4. Testing Zipf's law\n",
    "\n",
    "It has been observed, for large amounts of texts, that when ranking words by decreasing frequencies, the ranks (1, 2, 3, ...) and the numbers of occurrences (say, 948, 321, 146, ...) follow a particular law called [Zipf's law](https://en.wikipedia.org/wiki/Zipf%27s_law).  Specifically, if *x&nbsp;* are the ranks and *y&nbsp;* the corresponding numbers of occurrences, their relation is approximately *y = a / x^b* for appropriate values of *a* and *b*.  If plotted in log-log coordinates, such a relation results in a linear plot (log(*y*) = *a* - *b* log(*x*)).\n",
    "\n",
    "**4a.** Using the `FreqDist` object, please collect the frequencies of the 1000 most frequent words, rank them by decreasing values, and plot the (rank, frequency) curve on a log-log scale (simply using the `.xscale(\"log\")` parameter of the plot)."
   ]
  },
  {
   "cell_type": "code",
   "execution_count": 38,
   "metadata": {},
   "outputs": [],
   "source": [
    "# Before using matplotlib to display graphs inline, you must execute \n",
    "# the following two lines (assuming you have installed the library).\n",
    "import matplotlib.pyplot as plt\n",
    "%matplotlib inline"
   ]
  },
  {
   "cell_type": "code",
   "execution_count": 39,
   "metadata": {},
   "outputs": [
    {
     "data": {
      "text/plain": [
       "Text(0, 0.5, 'frequency')"
      ]
     },
     "execution_count": 39,
     "metadata": {},
     "output_type": "execute_result"
    },
    {
     "data": {
      "image/png": "[encoded data removed]",
      "text/plain": [
       "<Figure size 640x480 with 1 Axes>"
      ]
     },
     "metadata": {},
     "output_type": "display_data"
    }
   ],
   "source": [
    "# Please write your Python code in this cell and execute it.\n",
    "freq = [tuple[1] for tuple in fdist.most_common()][:1000]\n",
    "rank = 1+np.arange(len(freq))\n",
    "plt.plot(rank, freq)\n",
    "plt.xscale(\"log\")\n",
    "plt.yscale(\"log\")\n",
    "plt.xlabel('rank')\n",
    "plt.ylabel('frequency')"
   ]
  },
  {
   "cell_type": "markdown",
   "metadata": {},
   "source": [
    "**4b.** Please try to find manually the best values of a and b, so that the curve *y = a / x^b* (in other words (*x*, *a / x^b*)) matches as closely as possible the (frequency, rank) curve on the log-log scale.  You can use a trial-and-error approach, starting e.g. from *a* = 1000 and *b* = 1 (these values depend on the text that you tokenized).  Please display both curves on the same graph below to show how close they are. "
   ]
  },
  {
   "cell_type": "code",
   "execution_count": 41,
   "metadata": {},
   "outputs": [
    {
     "data": {
      "image/png": "[encoded data removed]",
      "text/plain": [
       "<Figure size 640x480 with 1 Axes>"
      ]
     },
     "metadata": {},
     "output_type": "display_data"
    }
   ],
   "source": [
    "# Please write your Python code in this cell and execute it.\n",
    "def estimate_freq(rank, a=1000, b=1):\n",
    "    return a / rank ** b\n",
    "\n",
    "est_freq = estimate_freq(rank, a=13000, b=1)\n",
    "\n",
    "plt.plot(rank, freq, label='actual')\n",
    "plt.plot(rank, est_freq, label='estimated')\n",
    "plt.xscale(\"log\")\n",
    "plt.yscale(\"log\")\n",
    "plt.xlabel('rank')\n",
    "plt.ylabel('frequency')\n",
    "plt.legend()\n",
    "plt.show()"
   ]
  },
  {
   "cell_type": "markdown",
   "metadata": {},
   "source": [
    "**4c.** Please find automatically the best values of a and b using `scipy.optimize.curve_fit()`.  The best values are those leading to the closest fitting line (by default according to least squares)."
   ]
  },
  {
   "cell_type": "code",
   "execution_count": 43,
   "metadata": {},
   "outputs": [],
   "source": [
    "import numpy as np \n",
    "import scipy"
   ]
  },
  {
   "cell_type": "code",
   "execution_count": 44,
   "metadata": {},
   "outputs": [
    {
     "data": {
      "text/plain": [
       "(array([1.0295114e+04, 7.9426788e-01]),\n",
       " array([[4.45643919e+03, 1.47169739e-01],\n",
       "        [1.47169739e-01, 1.27316108e-05]]))"
      ]
     },
     "execution_count": 44,
     "metadata": {},
     "output_type": "execute_result"
    }
   ],
   "source": [
    "# Please write your Python code in this cell and execute it.\n",
    "scipy.optimize.curve_fit(estimate_freq, rank, freq)"
   ]
  },
  {
   "cell_type": "code",
   "execution_count": 45,
   "metadata": {},
   "outputs": [
    {
     "data": {
      "image/png": "[encoded data removed]",
      "text/plain": [
       "<Figure size 640x480 with 1 Axes>"
      ]
     },
     "metadata": {},
     "output_type": "display_data"
    }
   ],
   "source": [
    "est_freq = estimate_freq(rank, a=1.0295114e+04, b=7.9426788e-01)\n",
    "\n",
    "plt.plot(rank, freq, label='actual')\n",
    "plt.plot(rank, est_freq, label='estimated')\n",
    "plt.xscale(\"log\")\n",
    "plt.yscale(\"log\")\n",
    "plt.xlabel('rank')\n",
    "plt.ylabel('frequency')\n",
    "plt.legend()\n",
    "plt.show()"
   ]
  },
  {
   "cell_type": "markdown",
   "metadata": {},
   "source": [
    "## 5.  Does an undeciphered manuscript obey Zipf's law?\n",
    "\n",
    "The Voynich manuscript is an undeciphered manuscript from the 15th century: its script and language are still unknown, and it is not impossible that it is a hoax.  You can read about it [on Wikipedia](https://en.wikipedia.org/wiki/Voynich_manuscript) or even [on a dedicated website](http://www.voynich.nu/), which provides pictures and transcriptions.  A version of it converted to ASCII characters, one word per line, is made available on Moodle as the `voynich.txt` file (all characters correspond to symbols found in the manuscript).\n",
    "\n",
    "**5a.** Please compute the number of tokens, the number of types, and the type-to-token ration (TTR) for this document.  How does it compare with your previous text?"
   ]
  },
  {
   "cell_type": "code",
   "execution_count": 47,
   "metadata": {},
   "outputs": [],
   "source": [
    "# Please write your Python code in this cell and execute it.\n",
    "with open('voynich.txt') as file:\n",
    "    voynich_text = file.read()\n",
    "\n",
    "# consider each word as a token\n",
    "tokens_voynich_text = voynich_text.splitlines()\n",
    "vocabulary_voynich = set(tokens_voynich_text)"
   ]
  },
  {
   "cell_type": "code",
   "execution_count": 48,
   "metadata": {},
   "outputs": [
    {
     "name": "stdout",
     "output_type": "stream",
     "text": [
      "total nb of tokens: 21029\n",
      "vocabulary size: 5674\n",
      "TTR: 0.26981787055970324\n"
     ]
    }
   ],
   "source": [
    "print('total nb of tokens:', len(tokens_voynich_text))\n",
    "print('vocabulary size:', len(vocabulary_voynich))\n",
    "print('TTR:', len(vocabulary_voynich) / len(tokens_voynich_text))"
   ]
  },
  {
   "cell_type": "markdown",
   "metadata": {},
   "source": [
    "The Voynich text has a vocabulary size of 5674, which is 25% less than the vocabulary of the book (7607), but we have to consider that the book is 7 times larger than the Voynich text (148032 tokens compared to 21029).\n",
    "The TTR for the Voynich text is much higher (0.270) than the one of the book above (0.051), which means that the Voynich text contains many different words, but they're repeated less than in the book. This can be explained by the different topics that the manuscript covers (based on the images)."
   ]
  },
  {
   "cell_type": "markdown",
   "metadata": {},
   "source": [
    "**5b.** Please examine if the tokens in the Voynich manuscript follow Zipf's law.  Specifically, please draw the (_rank_, _frequency_) curve in log-log scale for the 100 most frequent tokens, along with the closest (*x*, *a* / *x^b*) curve, and indicate the best values of *a* and *b*."
   ]
  },
  {
   "cell_type": "code",
   "execution_count": 51,
   "metadata": {},
   "outputs": [
    {
     "data": {
      "text/plain": [
       "[('8AM', 543),\n",
       " ('SC89', 319),\n",
       " ('OE', 277),\n",
       " ('ZC89', 274),\n",
       " ('SOE', 255),\n",
       " ('4OFC89', 203),\n",
       " ('4OFAN', 190),\n",
       " ('4OFCC89', 189),\n",
       " ('8AR', 185),\n",
       " ('SC9', 179),\n",
       " ('89', 179),\n",
       " ('AM', 178),\n",
       " ('OR', 172),\n",
       " ('SOR', 161),\n",
       " ('4OFAM', 154),\n",
       " ('4OFCC9', 139),\n",
       " ('AR', 137),\n",
       " ('ZC9', 137),\n",
       " ('8AN', 131),\n",
       " ('ZOE', 130),\n",
       " ('4OFAE', 129),\n",
       " ('2', 127),\n",
       " ('8AE', 123),\n",
       " ('OFAM', 122),\n",
       " ('AE', 105),\n",
       " ('S9', 104),\n",
       " ('4OE', 97),\n",
       " ('Q9', 92),\n",
       " ('4OF9', 92),\n",
       " ('2AM', 88),\n",
       " ('SX9', 87),\n",
       " ('OPC89', 86),\n",
       " ('4OFAR', 85),\n",
       " ('SCC9', 84),\n",
       " ('ZO', 83),\n",
       " ('ZOR', 79),\n",
       " ('8OE', 78),\n",
       " ('OPAM', 78),\n",
       " ('OFAN', 76),\n",
       " ('OP9', 76),\n",
       " ('S89', 75),\n",
       " ('OFC89', 75),\n",
       " ('OFAE', 71),\n",
       " ('SCOE', 70),\n",
       " ('OPAR', 70),\n",
       " ('ZCC9', 69),\n",
       " ('9', 68),\n",
       " ('ESC89', 67),\n",
       " ('4OPC89', 66),\n",
       " ('OFCC9', 65),\n",
       " ('Z9', 64),\n",
       " ('OFAR', 64),\n",
       " ('OFCC89', 62),\n",
       " ('OF9', 58),\n",
       " ('4OP9', 58),\n",
       " ('OPAN', 58),\n",
       " ('OPCC9', 57),\n",
       " ('OPAE', 56),\n",
       " ('4OFC9', 55),\n",
       " ('SO89', 54),\n",
       " ('SQ9', 54),\n",
       " ('4OPS9', 52),\n",
       " ('4OFS9', 52),\n",
       " ('8OR', 51),\n",
       " ('8AJ', 51),\n",
       " ('ZCC89', 50),\n",
       " ('OPCC89', 50),\n",
       " ('4OPCC89', 49),\n",
       " ('OPOE', 48),\n",
       " ('QOE', 46),\n",
       " ('SCOR', 46),\n",
       " ('QOR', 45),\n",
       " ('4OFOE', 44),\n",
       " ('2AN', 44),\n",
       " ('2AR', 44),\n",
       " ('SAR', 43),\n",
       " ('8AT', 43),\n",
       " ('SCF9', 43),\n",
       " ('AN', 43),\n",
       " ('R', 42),\n",
       " ('ZCOE', 41),\n",
       " ('AJ', 41),\n",
       " ('2OE', 41),\n",
       " ('4OPAM', 40),\n",
       " ('SO', 39),\n",
       " ('SAM', 35),\n",
       " ('QC9', 34),\n",
       " ('O8AM', 34),\n",
       " ('FAM', 34),\n",
       " ('ZX9', 34),\n",
       " ('E', 34),\n",
       " ('OE9', 34),\n",
       " ('OESC89', 34),\n",
       " ('SCX9', 34),\n",
       " ('O', 33),\n",
       " ('8', 33),\n",
       " ('OFOE', 33),\n",
       " ('2AE', 33),\n",
       " ('OPS9', 33),\n",
       " ('4OPAE', 33),\n",
       " ('4OPAN', 33),\n",
       " ('SCAR', 32),\n",
       " ('2OR', 32),\n",
       " ('4OPAR', 32),\n",
       " ('PC89', 32),\n",
       " ('Z89', 31),\n",
       " ('ZO89', 30),\n",
       " ('4OPOE', 30),\n",
       " ('SCC89', 30),\n",
       " ('4OFS89', 30),\n",
       " ('OBSC89', 29),\n",
       " ('X9', 28),\n",
       " ('RAM', 28),\n",
       " ('SO8AM', 27),\n",
       " ('SCO89', 27),\n",
       " ('ZCOR', 27),\n",
       " ('ESC9', 27),\n",
       " ('EZC89', 27),\n",
       " ('FAR', 26),\n",
       " ('FCC89', 26),\n",
       " ('FC89', 26),\n",
       " ('FAN', 25),\n",
       " ('FOE', 25),\n",
       " ('SOP9', 25),\n",
       " ('SXC9', 25),\n",
       " ('SCQ9', 25),\n",
       " ('8ZC89', 25),\n",
       " ('FS9', 24),\n",
       " ('8SOR', 24),\n",
       " ('4O8AM', 24),\n",
       " ('9PAM', 24),\n",
       " ('POE', 24),\n",
       " ('OPC9', 24),\n",
       " ('OEOR', 24),\n",
       " ('OEFCC89', 24),\n",
       " ('OEFAN', 24),\n",
       " ('ZCF9', 23),\n",
       " ('9FAM', 23),\n",
       " ('EOE', 23),\n",
       " ('9FCC9', 23),\n",
       " ('O89', 23),\n",
       " ('OFS9', 23),\n",
       " ('SCO', 23),\n",
       " ('ZCX9', 23),\n",
       " ('OEFCC9', 23),\n",
       " ('29', 22),\n",
       " ('OPCOE', 22),\n",
       " ('OFSC9', 22),\n",
       " ('SOF9', 22),\n",
       " ('8S9', 22),\n",
       " ('SAE', 22),\n",
       " ('ZQ9', 22),\n",
       " ('4OPCC9', 22),\n",
       " ('OEAM', 22),\n",
       " ('OPSC9', 22),\n",
       " ('OEFC89', 22),\n",
       " ('OPSOE', 21),\n",
       " ('OPOR', 21),\n",
       " ('OFC9', 21),\n",
       " ('OPAJ', 21),\n",
       " ('8AE9', 21),\n",
       " ('PAR', 21),\n",
       " ('OEFAM', 21),\n",
       " ('PAM', 20),\n",
       " ('P9', 20),\n",
       " ('ORAM', 20),\n",
       " ('9PC89', 20),\n",
       " ('BSC89', 20),\n",
       " ('PSC89', 20),\n",
       " ('EOR', 20),\n",
       " ('ZAR', 19),\n",
       " ('FCC9', 19),\n",
       " ('9FS9', 19),\n",
       " ('SC2', 19),\n",
       " ('SCCF9', 19),\n",
       " ('ZCO89', 19),\n",
       " ('OESC9', 19),\n",
       " ('OFOR', 18),\n",
       " ('PS9', 18),\n",
       " ('4OPOR', 18),\n",
       " ('ROE', 18),\n",
       " ('4OFSC89', 18),\n",
       " ('8SOE', 17),\n",
       " ('OAM', 17),\n",
       " ('OFAJ', 17),\n",
       " ('SAN', 17),\n",
       " ('OE89', 17),\n",
       " ('9PCC9', 17),\n",
       " ('8SC89', 17),\n",
       " ('OEZC89', 17),\n",
       " ('SOQ9', 16),\n",
       " ('PSC9', 16),\n",
       " ('4O', 16),\n",
       " ('ZO8AM', 16),\n",
       " ('FSOR', 16),\n",
       " ('OFCOE', 16),\n",
       " ('FSOE', 16),\n",
       " ('ZCQ9', 16),\n",
       " ('9FAR', 16),\n",
       " ('E89', 16),\n",
       " ('EFCC9', 16),\n",
       " ('4OBSC89', 16),\n",
       " ('EFAN', 16),\n",
       " ('QAR', 15),\n",
       " ('OPSOR', 15),\n",
       " ('SCC2', 15),\n",
       " ('PSOR', 15),\n",
       " ('SO2', 15),\n",
       " ('FSC9', 15),\n",
       " ('4OFOR', 15),\n",
       " ('8AR9', 15),\n",
       " ('OEOE', 15),\n",
       " ('4OR', 15),\n",
       " ('4OFCOE', 15),\n",
       " ('9FCC89', 15),\n",
       " ('9FC89', 15),\n",
       " ('OEF9', 15),\n",
       " ('ZAM', 14),\n",
       " ('SAD', 14),\n",
       " ('9F9', 14),\n",
       " ('SCP9', 14),\n",
       " ('XOE', 14),\n",
       " ('9P9', 14),\n",
       " ('SOFS9', 14),\n",
       " ('OFCO89', 14),\n",
       " ('POR', 14),\n",
       " ('98AM', 14),\n",
       " ('FS89', 14),\n",
       " ('SOM', 14),\n",
       " ('4OPSC9', 14),\n",
       " ('OFSOR', 14),\n",
       " ('SE', 14),\n",
       " ('SCAE', 14),\n",
       " ('SFAM', 14),\n",
       " ('4OFSOE', 14),\n",
       " ('6', 14),\n",
       " ('9PCC89', 14),\n",
       " ('SC8AM', 14),\n",
       " ('OPSC89', 14),\n",
       " ('EFAM', 14),\n",
       " ('FOR', 13),\n",
       " ('XC9', 13),\n",
       " ('W9', 13),\n",
       " ('OM', 13),\n",
       " ('ZC', 13),\n",
       " ('SAJ', 13),\n",
       " ('SOJ', 13),\n",
       " ('ZCO', 13),\n",
       " ('4OAM', 13),\n",
       " ('8SC9', 13),\n",
       " ('OFSC89', 13),\n",
       " ('4OFSC9', 13),\n",
       " ('OPS89', 13),\n",
       " ('EFCC89', 13),\n",
       " ('4OESC9', 13),\n",
       " ('8AIR', 13),\n",
       " ('8AD', 12),\n",
       " ('QAM', 12),\n",
       " ('*', 12),\n",
       " ('9PS9', 12),\n",
       " ('SF9', 12),\n",
       " ('WOE', 12),\n",
       " ('PSOE', 12),\n",
       " ('OBSC9', 12),\n",
       " ('EFC89', 12),\n",
       " ('FAE', 12),\n",
       " ('4OFCCC9', 12),\n",
       " ('4OESC89', 12),\n",
       " ('RAN', 12),\n",
       " ('AIR', 12),\n",
       " ('Z', 11),\n",
       " ('9SCC9', 11),\n",
       " ('BOE', 11),\n",
       " ('SP9', 11),\n",
       " ('BSCOE', 11),\n",
       " ('4OPSOE', 11),\n",
       " ('4OFAJ', 11),\n",
       " ('4O89', 11),\n",
       " ('RAE', 11),\n",
       " ('8AE89', 11),\n",
       " ('8AU', 11),\n",
       " ('RSC89', 11),\n",
       " ('SC8AR', 11),\n",
       " ('AT', 11),\n",
       " ('AE9', 11),\n",
       " ('OEZC9', 11),\n",
       " ('EFAR', 11),\n",
       " ('4OCC89', 11),\n",
       " ('2AT', 10),\n",
       " ('O2', 10),\n",
       " ('8A3', 10),\n",
       " ('ZCAR', 10),\n",
       " ('4OPC9', 10),\n",
       " ('PCC9', 10),\n",
       " ('SOR9', 10),\n",
       " ('9SOR', 10),\n",
       " ('SFCC9', 10),\n",
       " ('9POE', 10),\n",
       " ('4OPSOR', 10),\n",
       " ('QO', 10),\n",
       " ('OFS89', 10),\n",
       " ('4OFCO89', 10),\n",
       " ('S8AE', 10),\n",
       " ('S8AR', 10),\n",
       " ('ZF9', 10),\n",
       " ('EO', 10),\n",
       " ('SC8', 10),\n",
       " ('PCC89', 10),\n",
       " ('OROE', 10),\n",
       " ('RAR', 10),\n",
       " ('E9', 10),\n",
       " ('O8AR', 9),\n",
       " ('9PAN', 9),\n",
       " ('SO8AN', 9),\n",
       " ('ZXC9', 9),\n",
       " ('9FOE', 9),\n",
       " ('FCOE', 9),\n",
       " ('8OM', 9),\n",
       " ('ZAN', 9),\n",
       " ('2OM', 9),\n",
       " ('OEAN', 9),\n",
       " ('9POR', 9),\n",
       " ('SOX9', 9),\n",
       " ('4OBS9', 9),\n",
       " ('F9', 9),\n",
       " ('8O', 9),\n",
       " ('OP', 9),\n",
       " ('BSOR', 9),\n",
       " ('8ZO', 9),\n",
       " ('QO89', 9),\n",
       " ('PAE', 9),\n",
       " ('OFCOR', 9),\n",
       " ('8E', 9),\n",
       " ('FCO89', 9),\n",
       " ('8ZOR', 9),\n",
       " ('OR9', 9),\n",
       " ('SC8AE', 9),\n",
       " ('AR9', 9),\n",
       " ('A3', 9),\n",
       " ('SX89', 9),\n",
       " ('VSC89', 9),\n",
       " ('FSC89', 9),\n",
       " ('OPCO89', 9),\n",
       " ('OES9', 9),\n",
       " ('OEFAR', 9),\n",
       " ('PAN', 9),\n",
       " ('ZCCF9', 9),\n",
       " ('9ZC89', 9),\n",
       " ('AIM', 9),\n",
       " ('XOR', 8),\n",
       " ('4OFSOR', 8),\n",
       " ('OQ9', 8),\n",
       " ('SOPOE', 8),\n",
       " ('SOFAN', 8),\n",
       " ('SOE9', 8),\n",
       " ('SO9', 8),\n",
       " ('ZQC9', 8),\n",
       " ('OBS9', 8),\n",
       " ('9SCOE', 8),\n",
       " ('ZCAM', 8),\n",
       " ('QCC9', 8),\n",
       " ('CC89', 8),\n",
       " ('4OFO89', 8),\n",
       " ('9ZCC9', 8),\n",
       " ('SCFC9', 8),\n",
       " ('OFCCC9', 8),\n",
       " ('4OBS89', 8),\n",
       " ('FC9', 8),\n",
       " ('ORAN', 8),\n",
       " ('ZC8', 8),\n",
       " ('OEFC9', 8),\n",
       " ('SXC89', 8),\n",
       " ('4OFAE9', 8),\n",
       " ('4OXC9', 8),\n",
       " ('4OFCCO89', 8),\n",
       " ('EZC9', 8),\n",
       " ('4OFZC89', 8),\n",
       " ('ZC8AE', 8),\n",
       " ('ESCC9', 8),\n",
       " ('4OEFCC89', 8),\n",
       " ('2OESC89', 8),\n",
       " ('ZO8', 7),\n",
       " ('WC9', 7),\n",
       " ('989', 7),\n",
       " ('SOFAM', 7),\n",
       " ('OEZCC9', 7),\n",
       " ('SR', 7),\n",
       " ('OAR', 7),\n",
       " ('ZCC2', 7),\n",
       " ('SOPAM', 7),\n",
       " ('9SC9', 7),\n",
       " ('R9', 7),\n",
       " ('4OP', 7),\n",
       " ('OFSOE', 7),\n",
       " ('FZO', 7),\n",
       " ('9PAE', 7),\n",
       " ('8OJ', 7),\n",
       " ('9PSOR', 7),\n",
       " ('ZCAE', 7),\n",
       " ('OJ', 7),\n",
       " ('9PAR', 7),\n",
       " ('SW9', 7),\n",
       " ('SCO2', 7),\n",
       " ('9FAN', 7),\n",
       " ('OE2', 7),\n",
       " ('SFAN', 7),\n",
       " ('BSC8AR', 7),\n",
       " ('9BSC89', 7),\n",
       " ('FCCOE', 7),\n",
       " ('ZAE', 7),\n",
       " ('EAM', 7),\n",
       " ('OEAR', 7),\n",
       " ('AU', 7),\n",
       " ('9FCOE', 7),\n",
       " ('OFAT', 7),\n",
       " ('4OPSC89', 7),\n",
       " ('9FCCO89', 7),\n",
       " ('SOPAR', 7),\n",
       " ('9PAJ', 7),\n",
       " ('OBS89', 7),\n",
       " ('4OPAJ', 7),\n",
       " ('ER', 7),\n",
       " ('ZCP9', 7),\n",
       " ('SCCO', 7),\n",
       " ('RZC89', 7),\n",
       " ('4OE9', 7),\n",
       " ('ZCCP9', 7),\n",
       " ('OFCCC89', 7),\n",
       " ('EF9', 7),\n",
       " ('9FAE', 6),\n",
       " ('ZOE89', 6),\n",
       " ('*9', 6),\n",
       " ('FZ9', 6),\n",
       " ('SCFAN', 6),\n",
       " ('QAE', 6),\n",
       " ('OF', 6),\n",
       " ('SO8AR', 6),\n",
       " ('FSCOE', 6),\n",
       " ('O8AE', 6),\n",
       " ('WAM', 6),\n",
       " ('ZOFS9', 6),\n",
       " ('9SOE', 6),\n",
       " ('8SCC9', 6),\n",
       " ('SOPS9', 6),\n",
       " ('PSCC9', 6),\n",
       " ('SCCO89', 6),\n",
       " ('SCCC9', 6),\n",
       " ('BSC9', 6),\n",
       " ('ZOM', 6),\n",
       " ('9PC9', 6),\n",
       " ('PZOE', 6),\n",
       " ('9FOR', 6),\n",
       " ('OAN', 6),\n",
       " ('OX9', 6),\n",
       " ('8Z9', 6),\n",
       " ('OFCAR', 6),\n",
       " ('SCCOR', 6),\n",
       " ('CCC2', 6),\n",
       " ('4OFZ9', 6),\n",
       " ('ZOQ9', 6),\n",
       " ('SPOE', 6),\n",
       " ('8CC9', 6),\n",
       " ('OFSO', 6),\n",
       " ('8ZC9', 6),\n",
       " ('SOFCC9', 6),\n",
       " ('QC89', 6),\n",
       " ('ZCO2', 6),\n",
       " ('SQC9', 6),\n",
       " ('ZCFCC9', 6),\n",
       " ('SCXC9', 6),\n",
       " ('4OFAE89', 6),\n",
       " ('S8AM', 6),\n",
       " ('4OFC8AR', 6),\n",
       " ('ORAE', 6),\n",
       " ('OFZC9', 6),\n",
       " ('S8AJ', 6),\n",
       " ('BS89', 6),\n",
       " ('4OFCC8', 6),\n",
       " ('SOPCC9', 6),\n",
       " ('O8AN', 6),\n",
       " ('4OEFCC9', 6),\n",
       " ('PCOE', 6),\n",
       " ('ESOR', 6),\n",
       " ('ZCF', 6),\n",
       " ('OEFCCC9', 6),\n",
       " ('4OPS89', 6),\n",
       " ('ZC8AM', 6),\n",
       " ('RAJ', 6),\n",
       " ('ES9', 6),\n",
       " ('EZCC89', 6),\n",
       " ('OPC8AR', 6),\n",
       " ('ZXC89', 6),\n",
       " ('9SC89', 6),\n",
       " ('EFSC9', 6),\n",
       " ('2SC89', 6),\n",
       " ('2OEFCC89', 6),\n",
       " ('OPZC89', 6),\n",
       " ('4OFE', 6),\n",
       " ('EFSC89', 6),\n",
       " ('ROR', 6),\n",
       " ('RSC9', 6),\n",
       " ('4OCC9', 6),\n",
       " ('ZOR9', 5),\n",
       " ('OPCOR', 5),\n",
       " ('98AN', 5),\n",
       " ('VAR', 5),\n",
       " ('8SAM', 5),\n",
       " ('SFAR', 5),\n",
       " ('8AEOR', 5),\n",
       " ('S9F9', 5),\n",
       " ('4OPSO', 5),\n",
       " ('9SCOR', 5),\n",
       " ('2SC9', 5),\n",
       " ('QOJ', 5),\n",
       " ('9PCO89', 5),\n",
       " ('S2', 5),\n",
       " ('OFAR9', 5),\n",
       " ('SOE89', 5),\n",
       " ('SOFCO89', 5),\n",
       " ('9PSC9', 5),\n",
       " ('O8', 5),\n",
       " ('OCC2', 5),\n",
       " ('OFO89', 5),\n",
       " ('4OFSO', 5),\n",
       " ('ZCO8', 5),\n",
       " ('8ZCC9', 5),\n",
       " ('FZC9', 5),\n",
       " ('CP9', 5),\n",
       " ('OCCC2', 5),\n",
       " ('8AK', 5),\n",
       " ('OFZ9', 5),\n",
       " ('4OBSC9', 5),\n",
       " ('PZO', 5),\n",
       " ('8SCOR', 5),\n",
       " ('OE8AM', 5),\n",
       " ('QCOE', 5),\n",
       " ('FCCOR', 5),\n",
       " ('4OPCCO89', 5),\n",
       " ('4OFOM', 5),\n",
       " ('PO8AM', 5),\n",
       " ('OE8AJ', 5),\n",
       " ('OPOE89', 5),\n",
       " ('4OX9', 5),\n",
       " ('OFCCOR', 5),\n",
       " ('OPZ9', 5),\n",
       " ('BOR', 5),\n",
       " ('4O8', 5),\n",
       " ('SCFC89', 5),\n",
       " ('ZC2', 5),\n",
       " ('OSOR', 5),\n",
       " ('4OB', 5),\n",
       " ('4OVSC89', 5),\n",
       " ('4OFCOR', 5),\n",
       " ('OBAE', 5),\n",
       " ('4OAR', 5),\n",
       " ('9PSC89', 5),\n",
       " ('SCFAR', 5),\n",
       " ('PS89', 5),\n",
       " ('OFAE9', 5),\n",
       " ('ORAJ', 5),\n",
       " ('S8AN', 5),\n",
       " ('PAJ', 5),\n",
       " ('SCPC9', 5),\n",
       " ('OES89', 5),\n",
       " ('ESAE', 5),\n",
       " ('BAR', 5),\n",
       " ('SOROR', 5),\n",
       " ('SCOF9', 5),\n",
       " ('OEZ89', 5),\n",
       " ('OESCC9', 5),\n",
       " ('SFAE', 5),\n",
       " ('SCPAR', 5),\n",
       " ('4OF', 5),\n",
       " ('SFC89', 5),\n",
       " ('4OFC8', 5),\n",
       " ('ZCFC9', 5),\n",
       " ('OFC8AR', 5),\n",
       " ('ZCC', 5),\n",
       " ('OFCCO', 5),\n",
       " ('4O8AE', 5),\n",
       " ('OEFAJ', 5),\n",
       " ('ORAR', 5),\n",
       " ('SCOAR', 5),\n",
       " ('SCFCC9', 5),\n",
       " ('ZCOF9', 5),\n",
       " ('ZCCOE', 5),\n",
       " ('OPCCC9', 5),\n",
       " ('4OFCCC89', 5),\n",
       " ('OPAE9', 5),\n",
       " ('4OFAD', 5),\n",
       " ('2ZC89', 5),\n",
       " ('ES89', 5),\n",
       " ('4OEZCC89', 5),\n",
       " ('9ZC9', 5),\n",
       " ('OESCC89', 5),\n",
       " ('4OEZC89', 5),\n",
       " ('PZC89', 5),\n",
       " ('BOEAM', 5),\n",
       " ('OEFAE', 5),\n",
       " ('OCC89', 5),\n",
       " ('OZC9', 5),\n",
       " ('2AIR', 5),\n",
       " ('WAR', 4),\n",
       " ('ZO2', 4),\n",
       " ('ZOAM', 4),\n",
       " ('OFA9', 4),\n",
       " ('F', 4),\n",
       " ('SOF', 4),\n",
       " ('PO89', 4),\n",
       " ('OPSO', 4),\n",
       " ('4O9', 4),\n",
       " ('9FO89', 4),\n",
       " ('SOEAM', 4),\n",
       " ('ZAD', 4),\n",
       " ('2ZC9', 4),\n",
       " ('2AJ', 4),\n",
       " ('4OPCOE', 4),\n",
       " ('FZCO', 4),\n",
       " ('SOBS9', 4),\n",
       " ('4OQ9', 4),\n",
       " ('SOAM', 4),\n",
       " ('**', 4),\n",
       " ('SCO8', 4),\n",
       " ('OSC9', 4),\n",
       " ('4OCCC9', 4),\n",
       " ('OFOM', 4),\n",
       " ('O8AJ', 4),\n",
       " ('XAM', 4),\n",
       " ('PSO89', 4),\n",
       " ('FCO', 4),\n",
       " ('SCO8AM', 4),\n",
       " ('FSO8', 4),\n",
       " ('POE89', 4),\n",
       " ('EO89', 4),\n",
       " ('2SOE', 4),\n",
       " ('OPSAR', 4),\n",
       " ('2AR9', 4),\n",
       " ('QO8', 4),\n",
       " ('OB9', 4),\n",
       " ('S9P9', 4),\n",
       " ('BAM', 4),\n",
       " ('9FSOR', 4),\n",
       " ('OFSAE', 4),\n",
       " ('SO8AE', 4),\n",
       " ('BSO8AM', 4),\n",
       " ('SO8', 4),\n",
       " ('ZOP9', 4),\n",
       " ('2O8AM', 4),\n",
       " ('9FCO89', 4),\n",
       " ('9S9', 4),\n",
       " ('*AR', 4),\n",
       " ('ORO', 4),\n",
       " ('OPO89', 4),\n",
       " ('SFS9', 4),\n",
       " ('8ARAJ', 4),\n",
       " ('8O89', 4),\n",
       " ('4O8AR', 4),\n",
       " ('XO89', 4),\n",
       " ('OESCOE', 4),\n",
       " ('SOE8AM', 4),\n",
       " ('O9', 4),\n",
       " ('4OAN', 4),\n",
       " ('9FSOE', 4),\n",
       " ('4OPZ9', 4),\n",
       " ('4OPZC9', 4),\n",
       " ('SOEO89', 4),\n",
       " ('OFO9', 4),\n",
       " ('4OB9', 4),\n",
       " ('2O2', 4),\n",
       " ('C', 4),\n",
       " ('ZOFAM', 4),\n",
       " ('9BSC9', 4),\n",
       " ('Y9', 4),\n",
       " ('OE8AR', 4),\n",
       " ('ZAJ', 4),\n",
       " ('SFC9', 4),\n",
       " ('E2', 4),\n",
       " ('8Z89', 4),\n",
       " ('OBAR', 4),\n",
       " ('X89', 4),\n",
       " ('OFSCC9', 4),\n",
       " ('9F', 4),\n",
       " ('SCPS9', 4),\n",
       " ('OXC9', 4),\n",
       " ('OFC8AE', 4),\n",
       " ('OFAE89', 4),\n",
       " ('OEFOR', 4),\n",
       " ('ARAM', 4),\n",
       " ('FAJ', 4),\n",
       " ('OEPC89', 4),\n",
       " ('S8', 4),\n",
       " ('SQC89', 4),\n",
       " ('SCFAE', 4),\n",
       " ('FCCC9', 4),\n",
       " ('8S89', 4),\n",
       " ('SYC9', 4),\n",
       " ('SCF', 4),\n",
       " ('OEVSC89', 4),\n",
       " ('OFCC2', 4),\n",
       " ('ARO89', 4),\n",
       " ('BSCO89', 4),\n",
       " ('9FCCOE', 4),\n",
       " ('ARAR', 4),\n",
       " ('4OPAE9', 4),\n",
       " ('4OPO89', 4),\n",
       " ('OFSAR', 4),\n",
       " ('FAT', 4),\n",
       " ('Q89', 4),\n",
       " ('4OF89', 4),\n",
       " ('9PCCC9', 4),\n",
       " ('SOFSOE', 4),\n",
       " ('B', 4),\n",
       " ('9FCCC9', 4),\n",
       " ('QCO89', 4),\n",
       " ('OPO8AM', 4),\n",
       " ('OFS8', 4),\n",
       " ('OFCCO89', 4),\n",
       " ('?', 4),\n",
       " ('8AEZC89', 4),\n",
       " ('8SCOE', 4),\n",
       " ('OPCCO2', 4),\n",
       " ('OPCO', 4),\n",
       " ('OPO', 4),\n",
       " ('AEAN', 4),\n",
       " ('OPCCO89', 4),\n",
       " ('OPCCO', 4),\n",
       " ('AROE', 4),\n",
       " ('OFZC89', 4),\n",
       " ('4OEZC9', 4),\n",
       " ('4', 4),\n",
       " ('EOE9', 4),\n",
       " ('2OEZC9', 4),\n",
       " ('4OFCAR', 4),\n",
       " ('EAE', 4),\n",
       " ('EZCC9', 4),\n",
       " ('ZCXC89', 4),\n",
       " ('ZC8AR', 4),\n",
       " ('4OBZC89', 4),\n",
       " ('4OEF9', 4),\n",
       " ('ESCOE', 4),\n",
       " ('OBZC89', 4),\n",
       " ('SCPAN', 4),\n",
       " ('SC8OE', 4),\n",
       " ('4OC89', 4),\n",
       " ('AEFAN', 4),\n",
       " ('AEFAR', 4),\n",
       " ('OPAIR', 4),\n",
       " ('OFAD', 3),\n",
       " ('YOE', 3),\n",
       " ('ZOZ9', 3),\n",
       " ('OFZO', 3),\n",
       " ('O8AD', 3),\n",
       " ('9SO', 3),\n",
       " ('8SAR', 3),\n",
       " ('OFAU', 3),\n",
       " ('RO', 3),\n",
       " ('8*', 3),\n",
       " ('SPOR', 3),\n",
       " ('SOPC9', 3),\n",
       " ('A7', 3),\n",
       " ('SOPSC9', 3),\n",
       " ('2O', 3),\n",
       " ('ZP9', 3),\n",
       " ('SCAM', 3),\n",
       " ('ZOJ', 3),\n",
       " ('OPSO89', 3),\n",
       " ('4OFZC9', 3),\n",
       " ('OFCOJ', 3),\n",
       " ('ZA', 3),\n",
       " ('CC9', 3),\n",
       " ('SO8AE9', 3),\n",
       " ('OPSAJ', 3),\n",
       " ('SXOE', 3),\n",
       " ('ZFAM', 3),\n",
       " ('SORAM', 3),\n",
       " ('FSO9', 3),\n",
       " ('SOPCOE', 3),\n",
       " ('WO89', 3),\n",
       " ('ZCCOR', 3),\n",
       " ('ZOF9', 3),\n",
       " ('SOEOR', 3),\n",
       " ('FZOR', 3),\n",
       " ('XAJ', 3),\n",
       " ('SOQC9', 3),\n",
       " ('OS9', 3),\n",
       " ('4OFCS9', 3),\n",
       " ('SOS9', 3),\n",
       " ('OPZOE', 3),\n",
       " ('PC9', 3),\n",
       " ('SOP', 3),\n",
       " ('S9FS9', 3),\n",
       " ('SAR9', 3),\n",
       " ('SFOR', 3),\n",
       " ('9FC9', 3),\n",
       " ('9BS9', 3),\n",
       " ('FZCO89', 3),\n",
       " ('OP989', 3),\n",
       " ('4OFS8', 3),\n",
       " ('OBSOR', 3),\n",
       " ('PZ9', 3),\n",
       " ('2O3', 3),\n",
       " ('8A', 3),\n",
       " ('8AEO', 3),\n",
       " ('FOM', 3),\n",
       " ('8SOFS9', 3),\n",
       " ('FCOR', 3),\n",
       " ('D', 3),\n",
       " ('8AR89', 3),\n",
       " ('8SX9', 3),\n",
       " ('FOE9', 3),\n",
       " ('QOE9', 3),\n",
       " ('8AF9', 3),\n",
       " ('*AN', 3),\n",
       " ('9FAT', 3),\n",
       " ('O8AT', 3),\n",
       " ('WOR', 3),\n",
       " ('SOEFAM', 3),\n",
       " ('OEO', 3),\n",
       " ('OFCCOE', 3),\n",
       " ('SCCOE', 3),\n",
       " ('FSAM', 3),\n",
       " ('4OFA9', 3),\n",
       " ('9FSO', 3),\n",
       " ('4OFCCC2', 3),\n",
       " ('9FAJ', 3),\n",
       " ('Z8AM', 3),\n",
       " ('PO9', 3),\n",
       " ('ZCO9', 3),\n",
       " ('2OAM', 3),\n",
       " ('OPCO2', 3),\n",
       " ('QAN', 3),\n",
       " ('4OPCCOE', 3),\n",
       " ('9ZO', 3),\n",
       " ('ESOE', 3),\n",
       " ('89FAM', 3),\n",
       " ('2SOR', 3),\n",
       " ('WAE', 3),\n",
       " ('9PSOE', 3),\n",
       " ('4OFOE89', 3),\n",
       " ('4OPSAR', 3),\n",
       " ('CCAR', 3),\n",
       " ('SXAE', 3),\n",
       " ('SQ', 3),\n",
       " ('OFCAE', 3),\n",
       " ('98', 3),\n",
       " ('PSAR', 3),\n",
       " ('O8OR', 3),\n",
       " ('9BS89', 3),\n",
       " ('BS8AR', 3),\n",
       " ('OVS89', 3),\n",
       " ('SCFAM', 3),\n",
       " ('OVS9', 3),\n",
       " ('OFCCO2', 3),\n",
       " ('SCCO2', 3),\n",
       " ('BSO', 3),\n",
       " ('ZOE9', 3),\n",
       " ('ZE', 3),\n",
       " ('ZCBS9', 3),\n",
       " ('SOFOR', 3),\n",
       " ('4OFCCOR', 3),\n",
       " ('SOFOE', 3),\n",
       " ('ZCOE89', 3),\n",
       " ('ZCCO', 3),\n",
       " ('POF', 3),\n",
       " ('OEZCOE', 3),\n",
       " ('2AU', 3),\n",
       " ('FCCO89', 3),\n",
       " ('9FCO2', 3),\n",
       " ('SCFCC89', 3),\n",
       " ('9SCO', 3),\n",
       " ('PZ89', 3),\n",
       " ('8ARAR', 3),\n",
       " ('EO8AM', 3),\n",
       " ('OOR', 3),\n",
       " ('9FS89', 3),\n",
       " ('PSCO', 3),\n",
       " ('FZC89', 3),\n",
       " ('AE89', 3),\n",
       " ('SOFC9', 3),\n",
       " ('8AG', 3),\n",
       " ('OPOE9', 3),\n",
       " ('SC6', 3),\n",
       " ('OFOE89', 3),\n",
       " ('ARAJ', 3),\n",
       " ('4OCC8AM', 3),\n",
       " ('BOESC89', 3),\n",
       " ('SOPOR', 3),\n",
       " ('OPZC9', 3),\n",
       " ('SPS9', 3),\n",
       " ('SCQC9', 3),\n",
       " ('FZ89', 3),\n",
       " ('8OE9', 3),\n",
       " ('4OXC89', 3),\n",
       " ('OPAR9', 3),\n",
       " ('SQ89', 3),\n",
       " ('OSC89', 3),\n",
       " ('XC89', 3),\n",
       " ('ESAR', 3),\n",
       " ('OQC9', 3),\n",
       " ('9PS89', 3),\n",
       " ('J', 3),\n",
       " ('8ZCOE', 3),\n",
       " ('VS89', 3),\n",
       " ('AFAM', 3),\n",
       " ('EZC8', 3),\n",
       " ('9VSC9', 3),\n",
       " ('SOPAE', 3),\n",
       " ('OPCO8AM', 3),\n",
       " ('4OPCO', 3),\n",
       " ('SCPC89', 3),\n",
       " ('SCOX9', 3),\n",
       " ('AESC9', 3),\n",
       " ('OPCC2', 3),\n",
       " ('4O8AN', 3),\n",
       " ('FSO', 3),\n",
       " ('SOFAJ', 3),\n",
       " ('RSCC9', 3),\n",
       " ('4OPSCOE', 3),\n",
       " ('OEFAT', 3),\n",
       " ('ZC8AN', 3),\n",
       " ('E8AR', 3),\n",
       " ('8AEOE', 3),\n",
       " ('PSO8AM', 3),\n",
       " ('SCCAE', 3),\n",
       " ('SCO8AN', 3),\n",
       " ('OFA3', 3),\n",
       " ('FO89', 3),\n",
       " ('4OBSOE', 3),\n",
       " ('OCFAM', 3),\n",
       " ('O3', 3),\n",
       " ('4OFCCO', 3),\n",
       " ('4OFZ8', 3),\n",
       " ('V', 3),\n",
       " ('n', 3),\n",
       " ('P', 3),\n",
       " ('RSC2', 3),\n",
       " ('OFCZ9', 3),\n",
       " ('BZCO89', 3),\n",
       " ('OPCCC89', 3),\n",
       " ('OEFCOE', 3),\n",
       " ('OPAE89', 3),\n",
       " ('ON', 3),\n",
       " ('A9', 3),\n",
       " ('OBSCOE', 3),\n",
       " ('OFCCR', 3),\n",
       " ('OPAEAE', 3),\n",
       " ('ARAE', 3),\n",
       " ('SCCFC9', 3),\n",
       " ('4OFCM', 3),\n",
       " ('ZPOE', 3),\n",
       " ('BOEZ9', 3),\n",
       " ('FOE89', 3),\n",
       " ('2OFCC89', 3),\n",
       " ('FCC8', 3),\n",
       " ('SCAE9', 3),\n",
       " ('OFCC8', 3),\n",
       " ('9SCC89', 3),\n",
       " ('ZCXC9', 3),\n",
       " ('EAN', 3),\n",
       " ('8AES89', 3),\n",
       " ('EFC9', 3),\n",
       " ('BZC89', 3),\n",
       " ('4OEAM', 3),\n",
       " ('OBSCC9', 3),\n",
       " ('4OPCC8', 3),\n",
       " ('EPCC89', 3),\n",
       " ('ESCC89', 3),\n",
       " ('4CC9', 3),\n",
       " ('SCCP9', 3),\n",
       " ('2OEFCC9', 3),\n",
       " ('4ORAM', 3),\n",
       " ('8AEZ89', 3),\n",
       " ('OVSC89', 3),\n",
       " ('ESCX9', 3),\n",
       " ('4OEFC89', 3),\n",
       " ('EAR', 3),\n",
       " ('AROR', 3),\n",
       " ('2OESC9', 3),\n",
       " ('4OFA6', 3),\n",
       " ('PZC9', 3),\n",
       " ('OPZ89', 3),\n",
       " ('SCOFAN', 3),\n",
       " ('2OEFAN', 3),\n",
       " ('SPAE', 3),\n",
       " ('OPAT', 3),\n",
       " ('4OEFAN', 3),\n",
       " ('OEAE', 3),\n",
       " ('ESC8', 3),\n",
       " ('FCCC89', 3),\n",
       " ('EBSC89', 3),\n",
       " ('SC8AN', 3),\n",
       " ('OROR', 3),\n",
       " ('AEOR', 3),\n",
       " ('EFAJ', 3),\n",
       " ('OBAM', 3),\n",
       " ('OESOR', 3),\n",
       " ('RAIR', 3),\n",
       " ('OEAJ', 3),\n",
       " ('EFCCO89', 3),\n",
       " ('8AIM', 3),\n",
       " ...]"
      ]
     },
     "execution_count": 51,
     "metadata": {},
     "output_type": "execute_result"
    }
   ],
   "source": [
    "# Please write your Python code in this cell and execute it.\n",
    "fdist = nltk.FreqDist(tokens_voynich_text)\n",
    "fdist.most_common()"
   ]
  },
  {
   "cell_type": "code",
   "execution_count": 52,
   "metadata": {},
   "outputs": [
    {
     "data": {
      "text/plain": [
       "(array([5.4369612e+02, 5.3353230e-01]),\n",
       " array([[1.18532919e+02, 7.22701725e-02],\n",
       "        [7.22701725e-02, 7.03017589e-05]]))"
      ]
     },
     "execution_count": 52,
     "metadata": {},
     "output_type": "execute_result"
    }
   ],
   "source": [
    "freq = [tuple[1] for tuple in fdist.most_common()][:100]\n",
    "rank = 1+np.arange(len(freq))\n",
    "scipy.optimize.curve_fit(estimate_freq, rank, freq)"
   ]
  },
  {
   "cell_type": "code",
   "execution_count": 53,
   "metadata": {},
   "outputs": [
    {
     "data": {
      "image/png": "[encoded data removed]",
      "text/plain": [
       "<Figure size 640x480 with 1 Axes>"
      ]
     },
     "metadata": {},
     "output_type": "display_data"
    }
   ],
   "source": [
    "est_freq = estimate_freq(rank, a=5.4369612e+02, b=5.3353230e-01)\n",
    "\n",
    "plt.plot(rank, freq, label='actual')\n",
    "plt.plot(rank, est_freq, label='estimated')\n",
    "plt.xscale(\"log\")\n",
    "plt.yscale(\"log\")\n",
    "plt.xlabel('rank')\n",
    "plt.ylabel('frequency')\n",
    "plt.legend()\n",
    "plt.show()"
   ]
  },
  {
   "cell_type": "markdown",
   "metadata": {},
   "source": [
    "**5c.** What are your conclusions regarding Voynich's manuscript?  Is it likely to be similar to a real text in an unknown language?  In your answer, consider the values of TTR, the two parameters *a* and *b*, and the fitting of the *y = a / x^b* curve."
   ]
  },
  {
   "cell_type": "markdown",
   "metadata": {},
   "source": [
    "It could be a real text in an unknown language, because the value of TTR seems explainable by the length of the text and the different topics it covers.\n",
    "The two parameters a and b have values that also look plausible (*a* being clost to the frequency of the 1st most common word in the text).\n",
    "The Zipf's law is respected by the Voynich's manuscript, with a theoretical *y = a / x^b* curve fitting well the mesured (_rank_, _frequency_) curve."
   ]
  },
  {
   "cell_type": "markdown",
   "metadata": {},
   "source": [
    "## End of AdvNLP Lab 1\n",
    "Please cleand and save the completed notebook, and upload it to Moodle."
   ]
  }
 ],
 "metadata": {
  "kernelspec": {
   "display_name": "Python 3 (ipykernel)",
   "language": "python",
   "name": "python3"
  },
  "language_info": {
   "codemirror_mode": {
    "name": "ipython",
    "version": 3
   },
   "file_extension": ".py",
   "mimetype": "text/x-python",
   "name": "python",
   "nbconvert_exporter": "python",
   "pygments_lexer": "ipython3",
   "version": "3.12.4"
  }
 },
 "nbformat": 4,
 "nbformat_minor": 4
}
