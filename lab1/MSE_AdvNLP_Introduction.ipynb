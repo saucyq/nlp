{
 "cells": [
  {
   "cell_type": "markdown",
   "metadata": {},
   "source": [
    "![MSE Logo](https://moodle.msengineering.ch/pluginfile.php/1/core_admin/logo/0x150/1643104191/logo-mse.png) \n",
    "\n",
    "# AdvNLP Practical Work: Introduction to the Environment\n",
    "\n",
    "## Summary\n",
    "The goal of this notebook is to get you introduced to an environment that will enable you to run experiments in text analysis for the AdvNLP course.  We will use the [Python 3](https://www.python.org/) programming language, with [Jupyter](https://jupyter.org/) notebooks to write instructions and log your results."
   ]
  },
  {
   "cell_type": "markdown",
   "metadata": {},
   "source": [
    "To be able to use Python and Jupyter Notebooks, you have three options: \n",
    "1. environment-specific installation with Conda\n",
    "2. simple installation (platform-wide)\n",
    "3. no local installation, use an online service: Google Colab."
   ]
  },
  {
   "cell_type": "markdown",
   "metadata": {},
   "source": [
    "### First option: Conda environment manager\n",
    "If you want to manage several versions of Python and its modules, a good idea is to install an environment manager such as Conda.   Before installing Python and Jupyter locally, installing Conda will help you manage different versions of Python and of other modules on your computer, for instance for several courses.  (You may wish to install Conda before Python, but you can also do it later, in which case it will install its own Python libraries.)\n",
    "\n",
    "Miniconda is a minimal environment manager, while Anaconda is a larger software distribution that includes also Python and R software.\n",
    "\n",
    "* To install Conda, follow the instructions at https://conda.io/projects/conda/en/latest/user-guide/install/index.html and consider installing Miniconda. Follow the instructions for your OS: Windows, Linux or MacOS.\n",
    "* You will be prompted to get a suitable installer from https://conda.io/en/latest/miniconda.html (an executable for Windows, or a `bash` script for Linux).\n",
    "* In Linux, run `wget https://repo.continuum.io/miniconda/Miniconda3-latest-Linux-x86_64.sh` and then\n",
    "`bash Miniconda3-latest-Linux-x86_64.sh`\n",
    "* Conda commands are the same on all OSs -- the most important ones are for creating and loading an environment\n",
    "* after you install Conda, commands are performed from the command line (command prompt, a Power Shell, Anaconda Prompt, etc.)\n",
    "* try `conda info` for a start.\n",
    "* to get familiar with Conda: https://conda.io/projects/conda/en/latest/user-guide/getting-started.html\n",
    "* cheatsheat of Conda commands: https://conda.io/projects/conda/en/latest/user-guide/cheatsheet.html\n",
    "* to create an environment called *AdvNLP* for this course and activate it:\n",
    "   * `conda create --name AdvNLP python=3.11`\n",
    "   * `conda activate AdvNLP`\n",
    "   * `conda list` to see what is installed in the current environment\n",
    "   * `conda deactivate` to exit from the environment\n",
    "   \n",
    "Please continue with the second option (except its first bullet point) to complete your installation of the Jupyter server, which will allow you to open, edit, and run notebooks."
   ]
  },
  {
   "cell_type": "markdown",
   "metadata": {},
   "source": [
    "### Second option: system-wide installation of Python\n",
    "\n",
    "With a local installation you will be able to work offline, and gain experience with Python and Jupyter, so we recommend this solution, with or without Conda.    \n",
    "  * You need to install [Python 3](https://www.python.org/downloads/) (the latest stable Python 3 version).\n",
    "  * Install then the [Jupyter package](https://jupyter.org/install).  \n",
    "  * A good idea is to use the [Package Installer for Python (pip)](https://packaging.python.org/tutorials/installing-packages/) to add new packages.  \n",
    "  * All these operations are done in the command line (on Windows: `cmd` or Power Shell).  \n",
    "  * The `MSE_AdvNLP_Introduction.ipynb` must be saved into your repository of Jupyter notebooks.  \n",
    "  * Start Jupyter with `jupyter notebook --no-browser`\n",
    "  * Oopen the Jupyter interface at http://localhost:8888 and launch this notebook.  "
   ]
  },
  {
   "cell_type": "markdown",
   "metadata": {},
   "source": [
    "**To use Jupyter with Conda**\n",
    "\n",
    "Jupyter can be aware of Conda environments.  A notebook can use a kernel associated to a specific Conda environment.  Once Juypter is installed (preferably in the same Conda environment that you will use), run these commands:\n",
    "* `conda activate AdvNLP`\n",
    "* `python -m ipykernel install --user --name AdvNLP --display-name \"AdvNLP\"`\n",
    "\n",
    "Once you have done this, you can just choose this kernel (environment) when you open a new Jupyter notebook."
   ]
  },
  {
   "cell_type": "markdown",
   "metadata": {},
   "source": [
    "### Third option: use Colab online (no local installation)\n",
    "\n",
    "You can use a free online environment provided by Google, named [Colab](https://colab.research.google.com).  You will need a Google account (the same as Gmail if you are using it), and your files will be stored on Google Drive.  Once you open a session in Colab, you will need to import the Jupyter notebooks to Colab.  This environment is offered by Gogle for machine learning experiments, with CPU / GPU / TPU computation, but not for time-consuming jobs.  All Python packages that we will use are installed."
   ]
  },
  {
   "cell_type": "markdown",
   "metadata": {},
   "source": [
    "## Running simple tests\n",
    "To test your settings, run some a simple operation first."
   ]
  },
  {
   "cell_type": "code",
   "metadata": {
    "ExecuteTime": {
     "end_time": "2025-02-20T08:02:35.575971Z",
     "start_time": "2025-02-20T08:02:35.568678Z"
    }
   },
   "source": [
    "1 + 2 * 3 / 4"
   ],
   "outputs": [
    {
     "data": {
      "text/plain": [
       "2.5"
      ]
     },
     "execution_count": 1,
     "metadata": {},
     "output_type": "execute_result"
    }
   ],
   "execution_count": 1
  },
  {
   "cell_type": "markdown",
   "metadata": {},
   "source": [
    "Create a list with the first ten numbers (1 to 10) and then print the list of their squares. "
   ]
  },
  {
   "cell_type": "code",
   "metadata": {
    "ExecuteTime": {
     "end_time": "2025-02-20T08:02:53.031364Z",
     "start_time": "2025-02-20T08:02:53.025214Z"
    }
   },
   "source": [
    "numbers = list(range(11))\n",
    "squares = [n ** 2 for n in numbers if n > 0]\n",
    "print(squares)"
   ],
   "outputs": [
    {
     "name": "stdout",
     "output_type": "stream",
     "text": [
      "[1, 4, 9, 16, 25, 36, 49, 64, 81, 100]\n"
     ]
    }
   ],
   "execution_count": 2
  },
  {
   "cell_type": "markdown",
   "metadata": {},
   "source": [
    "## Getting more familiar with Python\n",
    "\n",
    "If you need to get familiar with Python, one option is to go through [this notebook](http://www.inf.ed.ac.uk/teaching/courses/fnlp/Tutorials/python_intro.ipynb) from the [University of Edinburgh NLP course](http://www.inf.ed.ac.uk/teaching/courses/fnlp/).  (They also offer a useful [introduction to the `numpy` package](http://www.inf.ed.ac.uk/teaching/courses/fnlp/Tutorials/numpy_intro.ipynb).)  The notebook above also gives a very short introduction to [Matplotlib](https://matplotlib.org/), which will allow you to plot graphics in Jupyter.  \n",
    "\n",
    "A more thorough introduction is provided by J.R. Johansson in his [Scientific Python Lectures](http://github.com/jrjohansson/scientific-python-lectures) accompanied by Jupyter notebooks for practicing.  And of course the definitive reference is the [Python documentation](https://www.python.org/doc/) itself."
   ]
  }
 ],
 "metadata": {
  "kernelspec": {
   "display_name": "Python 3 (ipykernel)",
   "language": "python",
   "name": "python3"
  },
  "language_info": {
   "codemirror_mode": {
    "name": "ipython",
    "version": 3
   },
   "file_extension": ".py",
   "mimetype": "text/x-python",
   "name": "python",
   "nbconvert_exporter": "python",
   "pygments_lexer": "ipython3",
   "version": "3.11.5"
  }
 },
 "nbformat": 4,
 "nbformat_minor": 2
}
